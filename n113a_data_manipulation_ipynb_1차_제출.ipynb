{
  "nbformat": 4,
  "nbformat_minor": 0,
  "metadata": {
    "colab": {
      "name": "n113a_data-manipulation.ipynb - 1차 제출",
      "provenance": [],
      "collapsed_sections": [],
      "include_colab_link": true
    },
    "kernelspec": {
      "display_name": "Python 3",
      "language": "python",
      "name": "python3"
    },
    "language_info": {
      "codemirror_mode": {
        "name": "ipython",
        "version": 3
      },
      "file_extension": ".py",
      "mimetype": "text/x-python",
      "name": "python",
      "nbconvert_exporter": "python",
      "pygments_lexer": "ipython3",
      "version": "3.9.4"
    }
  },
  "cells": [
    {
      "cell_type": "markdown",
      "metadata": {
        "id": "view-in-github",
        "colab_type": "text"
      },
      "source": [
        "<a href=\"https://colab.research.google.com/github/colacan100/Algorithm_Study/blob/main/n113a_data_manipulation_ipynb_1%EC%B0%A8_%EC%A0%9C%EC%B6%9C.ipynb\" target=\"_parent\"><img src=\"https://colab.research.google.com/assets/colab-badge.svg\" alt=\"Open In Colab\"/></a>"
      ]
    },
    {
      "cell_type": "markdown",
      "metadata": {
        "id": "pmU5YUal1eTZ"
      },
      "source": [
        "<img src='https://user-images.githubusercontent.com/6457691/89746244-a6e2a200-daf3-11ea-9314-7863d544d73c.png' width = '200' align = 'right'>\n",
        "\n",
        "## *DATA SCIENCE / SECTION 1 / SPRINT 1 / NOTE 3*\n",
        "\n",
        "# 📝 Assignment\n",
        "\n",
        "---\n",
        "\n",
        "## 1. Concat \n",
        "\n",
        "세션시간에 다뤘던 6개의 데이터를 1개로 합치세요.\n",
        "\n",
        "데이터를 불러오기 위하여 아래의 코드를 참조하세요.\n",
        "\n",
        "합쳐진 데이터의 이름은 `df`입니다.\n",
        "\n",
        "```python\n",
        "import pandas as pd\n",
        "\n",
        "urlhead = 'https://ds-lecture-data.s3.ap-northeast-2.amazonaws.com/stocks/'\n",
        "df1 = pd.read_csv(urlhead + '000080.csv') \n",
        "# '000890.csv'\n",
        "# '005300.csv'\n",
        "# '027740.csv'\n",
        "# '035810.csv'\n",
        "# '136480.csv'\n",
        "```\n",
        "\n",
        "\n",
        "\n",
        "단, 모든 feature, 모든 데이터에 대해서가 아닌\n",
        "\n",
        "- 매출액\n",
        "- 자본총계\n",
        "- EPS\n",
        "\n",
        "- 제일 최근 분기의 데이터\n",
        "\n",
        "에 대해서만 하면 됩니다.\n",
        "\n",
        "||매출액|자본총계|EPS(원)|종목명|\n",
        "|:-:|:-:|:-:|:-:|:-:|\n",
        "|2020/09|6,243|10,897|453|하이트진로|\n",
        "|...|...|...|...|...|\n",
        "|2020/09|2,613|2,695|62|하림|\n",
        "\n",
        "(첫부분은 값이 달라도 되며, 결과 shape는 6,4입니다.)\n",
        "\n",
        "```py\n",
        "힌트 : \n",
        "\n",
        "- 데이터를 transpose\n",
        "- column의 이름을 변경 및 설정\n",
        "- 데이터의 일부 feature 선택\n",
        "- `종목명`이라는 feature 지정 (종목명은 Lecture Note를 참조)\n",
        "- 이후 `concat`으로 합치기\n",
        "- 합친 이후의 index는 `분기`로 설정 및 drop\n",
        "\n",
        "이라는 단계를 거치면 될겁니다.\n",
        "```"
      ]
    },
    {
      "cell_type": "code",
      "metadata": {
        "id": "hwBYT8GWxMXU",
        "colab": {
          "base_uri": "https://localhost:8080/",
          "height": 287
        },
        "outputId": "057f6ff5-cbdf-49f5-cbc4-5cee4bb3210b"
      },
      "source": [
        "import pandas as pd\n",
        "\n",
        "urlhead = 'https://ds-lecture-data.s3.ap-northeast-2.amazonaws.com/stocks/'\n",
        "def mydf(myurl):\n",
        "    df = pd.read_csv(urlhead + myurl).transpose()\n",
        "    new_header = df.iloc[0] \n",
        "    df = df[1:] \n",
        "    df.columns = new_header\n",
        "    df= df.loc[:,['매출액','자본총계','EPS(원)']]\n",
        "    return df[-1:]\n",
        "df1 = pd.concat([mydf('000080.csv'), mydf('000890.csv'), mydf('005300.csv'), mydf('027740.csv'), mydf('035810.csv'), mydf('136480.csv')])\n",
        "df1 = df1.reset_index()\n",
        "df2 = pd.DataFrame({\n",
        "     '종목명': ['하이트진로', '보해양조', '롯데칠성', '마니커', '이지홀딩스', '하림']}\n",
        ")\n",
        "df = pd.concat([df1, df2], axis = 1)\n",
        "df = df.rename(columns = {'index' : '분기'})\n",
        "df = df.set_index('분기')\n",
        "print(df.shape)\n",
        "df"
      ],
      "execution_count": null,
      "outputs": [
        {
          "output_type": "stream",
          "name": "stdout",
          "text": [
            "(6, 4)\n"
          ]
        },
        {
          "output_type": "execute_result",
          "data": {
            "text/html": [
              "\n",
              "  <div id=\"df-206d2a67-1a08-4c6d-bd83-52be2f890ae1\">\n",
              "    <div class=\"colab-df-container\">\n",
              "      <div>\n",
              "<style scoped>\n",
              "    .dataframe tbody tr th:only-of-type {\n",
              "        vertical-align: middle;\n",
              "    }\n",
              "\n",
              "    .dataframe tbody tr th {\n",
              "        vertical-align: top;\n",
              "    }\n",
              "\n",
              "    .dataframe thead th {\n",
              "        text-align: right;\n",
              "    }\n",
              "</style>\n",
              "<table border=\"1\" class=\"dataframe\">\n",
              "  <thead>\n",
              "    <tr style=\"text-align: right;\">\n",
              "      <th></th>\n",
              "      <th>매출액</th>\n",
              "      <th>자본총계</th>\n",
              "      <th>EPS(원)</th>\n",
              "      <th>종목명</th>\n",
              "    </tr>\n",
              "    <tr>\n",
              "      <th>분기</th>\n",
              "      <th></th>\n",
              "      <th></th>\n",
              "      <th></th>\n",
              "      <th></th>\n",
              "    </tr>\n",
              "  </thead>\n",
              "  <tbody>\n",
              "    <tr>\n",
              "      <th>2020/09\\n(IFRS연결)</th>\n",
              "      <td>6,243</td>\n",
              "      <td>10,897</td>\n",
              "      <td>453</td>\n",
              "      <td>하이트진로</td>\n",
              "    </tr>\n",
              "    <tr>\n",
              "      <th>2020/09\\n(IFRS연결)</th>\n",
              "      <td>205</td>\n",
              "      <td>816</td>\n",
              "      <td>3</td>\n",
              "      <td>보해양조</td>\n",
              "    </tr>\n",
              "    <tr>\n",
              "      <th>2020/09\\n(IFRS연결)</th>\n",
              "      <td>5,980</td>\n",
              "      <td>12,096</td>\n",
              "      <td>1,682</td>\n",
              "      <td>롯데칠성</td>\n",
              "    </tr>\n",
              "    <tr>\n",
              "      <th>2020/09\\n(IFRS연결)</th>\n",
              "      <td>521</td>\n",
              "      <td>624</td>\n",
              "      <td>-61</td>\n",
              "      <td>마니커</td>\n",
              "    </tr>\n",
              "    <tr>\n",
              "      <th>2020/06\\n(IFRS연결)</th>\n",
              "      <td>4,108</td>\n",
              "      <td>7,534</td>\n",
              "      <td>1,168</td>\n",
              "      <td>이지홀딩스</td>\n",
              "    </tr>\n",
              "    <tr>\n",
              "      <th>2020/09\\n(IFRS연결)</th>\n",
              "      <td>2,613</td>\n",
              "      <td>2,695</td>\n",
              "      <td>62</td>\n",
              "      <td>하림</td>\n",
              "    </tr>\n",
              "  </tbody>\n",
              "</table>\n",
              "</div>\n",
              "      <button class=\"colab-df-convert\" onclick=\"convertToInteractive('df-206d2a67-1a08-4c6d-bd83-52be2f890ae1')\"\n",
              "              title=\"Convert this dataframe to an interactive table.\"\n",
              "              style=\"display:none;\">\n",
              "        \n",
              "  <svg xmlns=\"http://www.w3.org/2000/svg\" height=\"24px\"viewBox=\"0 0 24 24\"\n",
              "       width=\"24px\">\n",
              "    <path d=\"M0 0h24v24H0V0z\" fill=\"none\"/>\n",
              "    <path d=\"M18.56 5.44l.94 2.06.94-2.06 2.06-.94-2.06-.94-.94-2.06-.94 2.06-2.06.94zm-11 1L8.5 8.5l.94-2.06 2.06-.94-2.06-.94L8.5 2.5l-.94 2.06-2.06.94zm10 10l.94 2.06.94-2.06 2.06-.94-2.06-.94-.94-2.06-.94 2.06-2.06.94z\"/><path d=\"M17.41 7.96l-1.37-1.37c-.4-.4-.92-.59-1.43-.59-.52 0-1.04.2-1.43.59L10.3 9.45l-7.72 7.72c-.78.78-.78 2.05 0 2.83L4 21.41c.39.39.9.59 1.41.59.51 0 1.02-.2 1.41-.59l7.78-7.78 2.81-2.81c.8-.78.8-2.07 0-2.86zM5.41 20L4 18.59l7.72-7.72 1.47 1.35L5.41 20z\"/>\n",
              "  </svg>\n",
              "      </button>\n",
              "      \n",
              "  <style>\n",
              "    .colab-df-container {\n",
              "      display:flex;\n",
              "      flex-wrap:wrap;\n",
              "      gap: 12px;\n",
              "    }\n",
              "\n",
              "    .colab-df-convert {\n",
              "      background-color: #E8F0FE;\n",
              "      border: none;\n",
              "      border-radius: 50%;\n",
              "      cursor: pointer;\n",
              "      display: none;\n",
              "      fill: #1967D2;\n",
              "      height: 32px;\n",
              "      padding: 0 0 0 0;\n",
              "      width: 32px;\n",
              "    }\n",
              "\n",
              "    .colab-df-convert:hover {\n",
              "      background-color: #E2EBFA;\n",
              "      box-shadow: 0px 1px 2px rgba(60, 64, 67, 0.3), 0px 1px 3px 1px rgba(60, 64, 67, 0.15);\n",
              "      fill: #174EA6;\n",
              "    }\n",
              "\n",
              "    [theme=dark] .colab-df-convert {\n",
              "      background-color: #3B4455;\n",
              "      fill: #D2E3FC;\n",
              "    }\n",
              "\n",
              "    [theme=dark] .colab-df-convert:hover {\n",
              "      background-color: #434B5C;\n",
              "      box-shadow: 0px 1px 3px 1px rgba(0, 0, 0, 0.15);\n",
              "      filter: drop-shadow(0px 1px 2px rgba(0, 0, 0, 0.3));\n",
              "      fill: #FFFFFF;\n",
              "    }\n",
              "  </style>\n",
              "\n",
              "      <script>\n",
              "        const buttonEl =\n",
              "          document.querySelector('#df-206d2a67-1a08-4c6d-bd83-52be2f890ae1 button.colab-df-convert');\n",
              "        buttonEl.style.display =\n",
              "          google.colab.kernel.accessAllowed ? 'block' : 'none';\n",
              "\n",
              "        async function convertToInteractive(key) {\n",
              "          const element = document.querySelector('#df-206d2a67-1a08-4c6d-bd83-52be2f890ae1');\n",
              "          const dataTable =\n",
              "            await google.colab.kernel.invokeFunction('convertToInteractive',\n",
              "                                                     [key], {});\n",
              "          if (!dataTable) return;\n",
              "\n",
              "          const docLinkHtml = 'Like what you see? Visit the ' +\n",
              "            '<a target=\"_blank\" href=https://colab.research.google.com/notebooks/data_table.ipynb>data table notebook</a>'\n",
              "            + ' to learn more about interactive tables.';\n",
              "          element.innerHTML = '';\n",
              "          dataTable['output_type'] = 'display_data';\n",
              "          await google.colab.output.renderOutput(dataTable, element);\n",
              "          const docLink = document.createElement('div');\n",
              "          docLink.innerHTML = docLinkHtml;\n",
              "          element.appendChild(docLink);\n",
              "        }\n",
              "      </script>\n",
              "    </div>\n",
              "  </div>\n",
              "  "
            ],
            "text/plain": [
              "                     매출액    자본총계 EPS(원)    종목명\n",
              "분기                                            \n",
              "2020/09\\n(IFRS연결)  6,243  10,897    453  하이트진로\n",
              "2020/09\\n(IFRS연결)    205     816      3   보해양조\n",
              "2020/09\\n(IFRS연결)  5,980  12,096  1,682   롯데칠성\n",
              "2020/09\\n(IFRS연결)    521     624    -61    마니커\n",
              "2020/06\\n(IFRS연결)  4,108   7,534  1,168  이지홀딩스\n",
              "2020/09\\n(IFRS연결)  2,613   2,695     62     하림"
            ]
          },
          "metadata": {},
          "execution_count": 19
        }
      ]
    },
    {
      "cell_type": "markdown",
      "metadata": {
        "id": "RsiWi4DuXPLP"
      },
      "source": [
        "## 2. Reshape \n",
        "\n",
        "방금 만든 데이터를 아래 예시와 같은 **tidy** 형태로 만드세요.\n",
        "\n",
        "이때 tidy 데이터의 이름은 `df_tidy` 입니다.\n",
        "\n",
        "|종목명|Feature|Value|\n",
        "|:-:|:-:|:-:|\n",
        "|하이트진로|매출액|6243|\n",
        "|보해양조|매출액|205|\n",
        "|롯데칠성|매출액|5980|\n",
        "|...|...|...|\n",
        "|마니커|EPS(원)|-61|\n",
        "|이지홀딩스|EPS(원)|1168|\n",
        "|하림|EPS(원)|62|\n",
        "\n",
        "이 후 아래의 코드를 정상적으로 실행했을때 나오는 box의 수를 `res`에 저장하세요.\n",
        "\n",
        "```python\n",
        "sns.boxplot(data = df_tidy, x = '종목명', y = 'value');\n",
        "```\n",
        "\n",
        "\n"
      ]
    },
    {
      "cell_type": "code",
      "metadata": {
        "id": "gACCr67CoUv0",
        "colab": {
          "base_uri": "https://localhost:8080/",
          "height": 279
        },
        "outputId": "61f811a3-07da-4585-b773-1ebdb6e519a3"
      },
      "source": [
        "import matplotlib.pyplot as plt\n",
        "plt.rc('font', family='NanumBarunGothic')\n",
        "df_tidy = df.melt(id_vars = '종목명', value_vars = ['매출액', '자본총계','EPS(원)'])\n",
        "df_tidy = df_tidy.rename(columns = {'variable' : 'Feature'})\n",
        "df_tidy = df_tidy.rename(columns = {'value' : 'Value'})\n",
        "def toInt(string):\n",
        "    return int(string.replace(',',''))\n",
        "df_tidy['Value'] = df_tidy['Value'].apply(toInt)\n",
        "import seaborn as sns\n",
        "sns.boxplot(data = df_tidy, x = '종목명', y = 'Value');\n",
        "res = 6"
      ],
      "execution_count": null,
      "outputs": [
        {
          "output_type": "display_data",
          "data": {
            "image/png": "[encoded data removed]",
            "text/plain": [
              "<Figure size 432x288 with 1 Axes>"
            ]
          },
          "metadata": {
            "needs_background": "light"
          }
        }
      ]
    },
    {
      "cell_type": "markdown",
      "metadata": {
        "id": "8Yscu0NtMmRM"
      },
      "source": [
        "## 3. Merge & Join +\n",
        "\n",
        "pandas merge의 options중 how 에는 여러가지 옵션들이 있습니다.\n",
        "\n",
        "공식 레퍼런스를 검색, 참조하여\n",
        "\n",
        "아래 코드를 바탕으로 \n",
        "\n",
        "다음과 같은 결과물을 만드는 코드를 작성하세요\n",
        "\n",
        "변수의 이름은 `df2` 입니다.\n",
        "\n",
        "|key1|key2|A|B|C|D|\n",
        "|:-:|:-:|:-:|:-:|:-:|:-:|\n",
        "|K0|K0|A0|B0|C0|D0|\n",
        "|K0|K1|A1|B1|NaN|NaN|\n",
        "|K1|K0|A2|B2|C1|D1|\n",
        "|K1|K0|A2|B2|C2|D2|\n",
        "|K2|K1|A3|B3|NaN|NaN|\n",
        "\n",
        "\n",
        "\n"
      ]
    },
    {
      "cell_type": "code",
      "metadata": {
        "id": "DlrGYjByMvn6",
        "colab": {
          "base_uri": "https://localhost:8080/",
          "height": 206
        },
        "outputId": "a4bd91b8-d052-4cdf-9ae8-93eac1e4aa45"
      },
      "source": [
        "import pandas as pd\n",
        "\n",
        "left = pd.DataFrame({'key1': ['K0', 'K0', 'K1', 'K2'],\n",
        "                     'key2': ['K0', 'K1', 'K0', 'K1'],\n",
        "                     'A': ['A0', 'A1', 'A2', 'A3'],\n",
        "                     'B': ['B0', 'B1', 'B2', 'B3']})\n",
        "\n",
        "right = pd.DataFrame({'key1': ['K0', 'K1', 'K1', 'K2'],\n",
        "                      'key2': ['K0', 'K0', 'K0', 'K0'],\n",
        "                      'C': ['C0', 'C1', 'C2', 'C3'],\n",
        "                      'D': ['D0', 'D1', 'D2', 'D3']})\n",
        "\n",
        "left.merge(right, how = 'left')"
      ],
      "execution_count": null,
      "outputs": [
        {
          "output_type": "execute_result",
          "data": {
            "text/html": [
              "\n",
              "  <div id=\"df-373e5635-773c-45e0-86a3-5e75aecc643e\">\n",
              "    <div class=\"colab-df-container\">\n",
              "      <div>\n",
              "<style scoped>\n",
              "    .dataframe tbody tr th:only-of-type {\n",
              "        vertical-align: middle;\n",
              "    }\n",
              "\n",
              "    .dataframe tbody tr th {\n",
              "        vertical-align: top;\n",
              "    }\n",
              "\n",
              "    .dataframe thead th {\n",
              "        text-align: right;\n",
              "    }\n",
              "</style>\n",
              "<table border=\"1\" class=\"dataframe\">\n",
              "  <thead>\n",
              "    <tr style=\"text-align: right;\">\n",
              "      <th></th>\n",
              "      <th>key1</th>\n",
              "      <th>key2</th>\n",
              "      <th>A</th>\n",
              "      <th>B</th>\n",
              "      <th>C</th>\n",
              "      <th>D</th>\n",
              "    </tr>\n",
              "  </thead>\n",
              "  <tbody>\n",
              "    <tr>\n",
              "      <th>0</th>\n",
              "      <td>K0</td>\n",
              "      <td>K0</td>\n",
              "      <td>A0</td>\n",
              "      <td>B0</td>\n",
              "      <td>C0</td>\n",
              "      <td>D0</td>\n",
              "    </tr>\n",
              "    <tr>\n",
              "      <th>1</th>\n",
              "      <td>K0</td>\n",
              "      <td>K1</td>\n",
              "      <td>A1</td>\n",
              "      <td>B1</td>\n",
              "      <td>NaN</td>\n",
              "      <td>NaN</td>\n",
              "    </tr>\n",
              "    <tr>\n",
              "      <th>2</th>\n",
              "      <td>K1</td>\n",
              "      <td>K0</td>\n",
              "      <td>A2</td>\n",
              "      <td>B2</td>\n",
              "      <td>C1</td>\n",
              "      <td>D1</td>\n",
              "    </tr>\n",
              "    <tr>\n",
              "      <th>3</th>\n",
              "      <td>K1</td>\n",
              "      <td>K0</td>\n",
              "      <td>A2</td>\n",
              "      <td>B2</td>\n",
              "      <td>C2</td>\n",
              "      <td>D2</td>\n",
              "    </tr>\n",
              "    <tr>\n",
              "      <th>4</th>\n",
              "      <td>K2</td>\n",
              "      <td>K1</td>\n",
              "      <td>A3</td>\n",
              "      <td>B3</td>\n",
              "      <td>NaN</td>\n",
              "      <td>NaN</td>\n",
              "    </tr>\n",
              "  </tbody>\n",
              "</table>\n",
              "</div>\n",
              "      <button class=\"colab-df-convert\" onclick=\"convertToInteractive('df-373e5635-773c-45e0-86a3-5e75aecc643e')\"\n",
              "              title=\"Convert this dataframe to an interactive table.\"\n",
              "              style=\"display:none;\">\n",
              "        \n",
              "  <svg xmlns=\"http://www.w3.org/2000/svg\" height=\"24px\"viewBox=\"0 0 24 24\"\n",
              "       width=\"24px\">\n",
              "    <path d=\"M0 0h24v24H0V0z\" fill=\"none\"/>\n",
              "    <path d=\"M18.56 5.44l.94 2.06.94-2.06 2.06-.94-2.06-.94-.94-2.06-.94 2.06-2.06.94zm-11 1L8.5 8.5l.94-2.06 2.06-.94-2.06-.94L8.5 2.5l-.94 2.06-2.06.94zm10 10l.94 2.06.94-2.06 2.06-.94-2.06-.94-.94-2.06-.94 2.06-2.06.94z\"/><path d=\"M17.41 7.96l-1.37-1.37c-.4-.4-.92-.59-1.43-.59-.52 0-1.04.2-1.43.59L10.3 9.45l-7.72 7.72c-.78.78-.78 2.05 0 2.83L4 21.41c.39.39.9.59 1.41.59.51 0 1.02-.2 1.41-.59l7.78-7.78 2.81-2.81c.8-.78.8-2.07 0-2.86zM5.41 20L4 18.59l7.72-7.72 1.47 1.35L5.41 20z\"/>\n",
              "  </svg>\n",
              "      </button>\n",
              "      \n",
              "  <style>\n",
              "    .colab-df-container {\n",
              "      display:flex;\n",
              "      flex-wrap:wrap;\n",
              "      gap: 12px;\n",
              "    }\n",
              "\n",
              "    .colab-df-convert {\n",
              "      background-color: #E8F0FE;\n",
              "      border: none;\n",
              "      border-radius: 50%;\n",
              "      cursor: pointer;\n",
              "      display: none;\n",
              "      fill: #1967D2;\n",
              "      height: 32px;\n",
              "      padding: 0 0 0 0;\n",
              "      width: 32px;\n",
              "    }\n",
              "\n",
              "    .colab-df-convert:hover {\n",
              "      background-color: #E2EBFA;\n",
              "      box-shadow: 0px 1px 2px rgba(60, 64, 67, 0.3), 0px 1px 3px 1px rgba(60, 64, 67, 0.15);\n",
              "      fill: #174EA6;\n",
              "    }\n",
              "\n",
              "    [theme=dark] .colab-df-convert {\n",
              "      background-color: #3B4455;\n",
              "      fill: #D2E3FC;\n",
              "    }\n",
              "\n",
              "    [theme=dark] .colab-df-convert:hover {\n",
              "      background-color: #434B5C;\n",
              "      box-shadow: 0px 1px 3px 1px rgba(0, 0, 0, 0.15);\n",
              "      filter: drop-shadow(0px 1px 2px rgba(0, 0, 0, 0.3));\n",
              "      fill: #FFFFFF;\n",
              "    }\n",
              "  </style>\n",
              "\n",
              "      <script>\n",
              "        const buttonEl =\n",
              "          document.querySelector('#df-373e5635-773c-45e0-86a3-5e75aecc643e button.colab-df-convert');\n",
              "        buttonEl.style.display =\n",
              "          google.colab.kernel.accessAllowed ? 'block' : 'none';\n",
              "\n",
              "        async function convertToInteractive(key) {\n",
              "          const element = document.querySelector('#df-373e5635-773c-45e0-86a3-5e75aecc643e');\n",
              "          const dataTable =\n",
              "            await google.colab.kernel.invokeFunction('convertToInteractive',\n",
              "                                                     [key], {});\n",
              "          if (!dataTable) return;\n",
              "\n",
              "          const docLinkHtml = 'Like what you see? Visit the ' +\n",
              "            '<a target=\"_blank\" href=https://colab.research.google.com/notebooks/data_table.ipynb>data table notebook</a>'\n",
              "            + ' to learn more about interactive tables.';\n",
              "          element.innerHTML = '';\n",
              "          dataTable['output_type'] = 'display_data';\n",
              "          await google.colab.output.renderOutput(dataTable, element);\n",
              "          const docLink = document.createElement('div');\n",
              "          docLink.innerHTML = docLinkHtml;\n",
              "          element.appendChild(docLink);\n",
              "        }\n",
              "      </script>\n",
              "    </div>\n",
              "  </div>\n",
              "  "
            ],
            "text/plain": [
              "  key1 key2   A   B    C    D\n",
              "0   K0   K0  A0  B0   C0   D0\n",
              "1   K0   K1  A1  B1  NaN  NaN\n",
              "2   K1   K0  A2  B2   C1   D1\n",
              "3   K1   K0  A2  B2   C2   D2\n",
              "4   K2   K1  A3  B3  NaN  NaN"
            ]
          },
          "metadata": {},
          "execution_count": 21
        }
      ]
    },
    {
      "cell_type": "markdown",
      "metadata": {
        "id": "mnOuqL9K0dqh"
      },
      "source": [
        "## 🔥 도전과제"
      ]
    },
    {
      "cell_type": "markdown",
      "metadata": {
        "id": "GboSqR1qRoTO"
      },
      "source": [
        "아래 링크들을 참조하여, \n",
        "특정 테마별로 포함되어 있는 종목의 데이터를 직접 csv형태로 수집하고 (아래 적힌 3개씩)\n",
        "\n",
        "<https://finance.naver.com/sise/sise_group_detail.nhn?type=theme&no=408>\n",
        "\n",
        "<https://finance.naver.com/sise/sise_group_detail.nhn?type=theme&no=36>\n",
        "\n",
        "- 최종 분기에 해당하는 데이터\n",
        "\n",
        "- 테마별 평균 데이터를 결과물로 만드는 코드를 작성하세요.\n",
        "\n",
        "단, 모든 feature에 대해서가 아닌\n",
        "\n",
        "- 매출액\n",
        "- 자본총계\n",
        "- EPS\n",
        "\n",
        "에 대해서만 하면 됩니다.\n",
        "\n",
        "|종목명|매출액|자본총계|EPS|\n",
        "|:-:|:-:|:-:|:-:|\n",
        "|대한해운|...|...|...|...|\n",
        "|팬오션|...|...|...|...|\n",
        "|KSS해운|...|...|...|...|\n",
        "|에스엘바이오닉스|...|...|...|...|\n",
        "|오성첨단소재|...|...|...|...|\n",
        "|우리바이오|...|...|...|...|\n",
        "\n",
        "---\n",
        "\n",
        "|테마|매출액|자본총계|EPS|\n",
        "|:-:|:-:|:-:|:-:|\n",
        "|해운|...|...|...|\n",
        "|마리화나(대마)|...|...|...|\n",
        "\n",
        "이후 아래의 예시 처럼 seaborn을 사용하여 결과를 barplot으로 시각화하세요.\n",
        "\n",
        "단, 한글이 깨지는 에러를 여러분이 직접 고쳐야합니다."
      ]
    },
    {
      "cell_type": "code",
      "metadata": {
        "id": "B-QNMrVkYap4",
        "colab": {
          "base_uri": "https://localhost:8080/",
          "height": 112
        },
        "outputId": "7b408278-7212-4167-8fe2-9da9ad1f9ab2"
      },
      "source": [
        "import pandas as pd\n",
        "import seaborn as sns\n",
        "\n",
        "# csv : 콤마로 데이터를 구분해서 저장하는 방법\n",
        "# 자본총계 : 자산총계에서 부채총계를 뺀 값\n",
        "# EPS : 주당순이익\n",
        "# 따라서 매출액, 자산총계, 부채총계, 주당순이익을 바탕으로 데이터프레임을 만든다\n",
        "# 최종 분기에 해당하는 데이터\n",
        "dat = pd.DataFrame({\"종목명\" : ['팬오션','KSS해운','대한해운','흥하해운','HMM','한국비엔씨','에스엘바이오닉스','오성첨단소재','우리바이오','마이더스AI','애머릿지']\n",
        "                    ,\"매출액\" : [13282,867,3097,40164,193,54,60,203,177,243,3929]\n",
        "                    ,\"자본총계\" : [28006,2866,8533,-263,16886,370,470,1944,1451,384,317]\n",
        "                    ,\"EPS(원)\" : [582,1701,733,64,7939,-3694,-3119,41,518,-306,-46]})\n",
        "# 테마별 평균 데이터를 결과물로 만드는 코드\n",
        "dat.loc[:,'테마'] = ['해운','해운','해운','해운','해운','마리화나(대마)','마리화나(대마)','마리화나(대마)','마리화나(대마)','마리화나(대마)','마리화나(대마)']\n",
        "mean = round(dat.groupby(\"테마\").mean(),2)\n",
        "mean = mean.reset_index()\n",
        "mean"
      ],
      "execution_count": null,
      "outputs": [
        {
          "output_type": "execute_result",
          "data": {
            "text/html": [
              "\n",
              "  <div id=\"df-3d8da16f-e4e1-43b4-9506-31f2adc13cb3\">\n",
              "    <div class=\"colab-df-container\">\n",
              "      <div>\n",
              "<style scoped>\n",
              "    .dataframe tbody tr th:only-of-type {\n",
              "        vertical-align: middle;\n",
              "    }\n",
              "\n",
              "    .dataframe tbody tr th {\n",
              "        vertical-align: top;\n",
              "    }\n",
              "\n",
              "    .dataframe thead th {\n",
              "        text-align: right;\n",
              "    }\n",
              "</style>\n",
              "<table border=\"1\" class=\"dataframe\">\n",
              "  <thead>\n",
              "    <tr style=\"text-align: right;\">\n",
              "      <th></th>\n",
              "      <th>테마</th>\n",
              "      <th>매출액</th>\n",
              "      <th>자본총계</th>\n",
              "      <th>EPS(원)</th>\n",
              "    </tr>\n",
              "  </thead>\n",
              "  <tbody>\n",
              "    <tr>\n",
              "      <th>0</th>\n",
              "      <td>마리화나(대마)</td>\n",
              "      <td>777.67</td>\n",
              "      <td>822.67</td>\n",
              "      <td>-1101.0</td>\n",
              "    </tr>\n",
              "    <tr>\n",
              "      <th>1</th>\n",
              "      <td>해운</td>\n",
              "      <td>11520.60</td>\n",
              "      <td>11205.60</td>\n",
              "      <td>2203.8</td>\n",
              "    </tr>\n",
              "  </tbody>\n",
              "</table>\n",
              "</div>\n",
              "      <button class=\"colab-df-convert\" onclick=\"convertToInteractive('df-3d8da16f-e4e1-43b4-9506-31f2adc13cb3')\"\n",
              "              title=\"Convert this dataframe to an interactive table.\"\n",
              "              style=\"display:none;\">\n",
              "        \n",
              "  <svg xmlns=\"http://www.w3.org/2000/svg\" height=\"24px\"viewBox=\"0 0 24 24\"\n",
              "       width=\"24px\">\n",
              "    <path d=\"M0 0h24v24H0V0z\" fill=\"none\"/>\n",
              "    <path d=\"M18.56 5.44l.94 2.06.94-2.06 2.06-.94-2.06-.94-.94-2.06-.94 2.06-2.06.94zm-11 1L8.5 8.5l.94-2.06 2.06-.94-2.06-.94L8.5 2.5l-.94 2.06-2.06.94zm10 10l.94 2.06.94-2.06 2.06-.94-2.06-.94-.94-2.06-.94 2.06-2.06.94z\"/><path d=\"M17.41 7.96l-1.37-1.37c-.4-.4-.92-.59-1.43-.59-.52 0-1.04.2-1.43.59L10.3 9.45l-7.72 7.72c-.78.78-.78 2.05 0 2.83L4 21.41c.39.39.9.59 1.41.59.51 0 1.02-.2 1.41-.59l7.78-7.78 2.81-2.81c.8-.78.8-2.07 0-2.86zM5.41 20L4 18.59l7.72-7.72 1.47 1.35L5.41 20z\"/>\n",
              "  </svg>\n",
              "      </button>\n",
              "      \n",
              "  <style>\n",
              "    .colab-df-container {\n",
              "      display:flex;\n",
              "      flex-wrap:wrap;\n",
              "      gap: 12px;\n",
              "    }\n",
              "\n",
              "    .colab-df-convert {\n",
              "      background-color: #E8F0FE;\n",
              "      border: none;\n",
              "      border-radius: 50%;\n",
              "      cursor: pointer;\n",
              "      display: none;\n",
              "      fill: #1967D2;\n",
              "      height: 32px;\n",
              "      padding: 0 0 0 0;\n",
              "      width: 32px;\n",
              "    }\n",
              "\n",
              "    .colab-df-convert:hover {\n",
              "      background-color: #E2EBFA;\n",
              "      box-shadow: 0px 1px 2px rgba(60, 64, 67, 0.3), 0px 1px 3px 1px rgba(60, 64, 67, 0.15);\n",
              "      fill: #174EA6;\n",
              "    }\n",
              "\n",
              "    [theme=dark] .colab-df-convert {\n",
              "      background-color: #3B4455;\n",
              "      fill: #D2E3FC;\n",
              "    }\n",
              "\n",
              "    [theme=dark] .colab-df-convert:hover {\n",
              "      background-color: #434B5C;\n",
              "      box-shadow: 0px 1px 3px 1px rgba(0, 0, 0, 0.15);\n",
              "      filter: drop-shadow(0px 1px 2px rgba(0, 0, 0, 0.3));\n",
              "      fill: #FFFFFF;\n",
              "    }\n",
              "  </style>\n",
              "\n",
              "      <script>\n",
              "        const buttonEl =\n",
              "          document.querySelector('#df-3d8da16f-e4e1-43b4-9506-31f2adc13cb3 button.colab-df-convert');\n",
              "        buttonEl.style.display =\n",
              "          google.colab.kernel.accessAllowed ? 'block' : 'none';\n",
              "\n",
              "        async function convertToInteractive(key) {\n",
              "          const element = document.querySelector('#df-3d8da16f-e4e1-43b4-9506-31f2adc13cb3');\n",
              "          const dataTable =\n",
              "            await google.colab.kernel.invokeFunction('convertToInteractive',\n",
              "                                                     [key], {});\n",
              "          if (!dataTable) return;\n",
              "\n",
              "          const docLinkHtml = 'Like what you see? Visit the ' +\n",
              "            '<a target=\"_blank\" href=https://colab.research.google.com/notebooks/data_table.ipynb>data table notebook</a>'\n",
              "            + ' to learn more about interactive tables.';\n",
              "          element.innerHTML = '';\n",
              "          dataTable['output_type'] = 'display_data';\n",
              "          await google.colab.output.renderOutput(dataTable, element);\n",
              "          const docLink = document.createElement('div');\n",
              "          docLink.innerHTML = docLinkHtml;\n",
              "          element.appendChild(docLink);\n",
              "        }\n",
              "      </script>\n",
              "    </div>\n",
              "  </div>\n",
              "  "
            ],
            "text/plain": [
              "         테마       매출액      자본총계  EPS(원)\n",
              "0  마리화나(대마)    777.67    822.67 -1101.0\n",
              "1        해운  11520.60  11205.60  2203.8"
            ]
          },
          "metadata": {},
          "execution_count": 57
        }
      ]
    },
    {
      "cell_type": "code",
      "metadata": {
        "colab": {
          "base_uri": "https://localhost:8080/",
          "height": 279
        },
        "id": "gAqW4e88Uw6W",
        "outputId": "ef11d8b5-1918-485e-e324-1d2d93646dc2"
      },
      "source": [
        "sns.barplot(x = '테마', y = '매출액', data = dat);"
      ],
      "execution_count": null,
      "outputs": [
        {
          "output_type": "display_data",
          "data": {
            "image/png": "[encoded data removed]",
            "text/plain": [
              "<Figure size 432x288 with 1 Axes>"
            ]
          },
          "metadata": {
            "needs_background": "light"
          }
        }
      ]
    },
    {
      "cell_type": "code",
      "metadata": {
        "id": "oQAQ30DkY1DA",
        "colab": {
          "base_uri": "https://localhost:8080/",
          "height": 279
        },
        "outputId": "a15fdf6b-d445-4871-8400-1d368968c899"
      },
      "source": [
        "sns.barplot(x = '테마', y = '자본총계', data = dat);"
      ],
      "execution_count": null,
      "outputs": [
        {
          "output_type": "display_data",
          "data": {
            "image/png": "[encoded data removed]",
            "text/plain": [
              "<Figure size 432x288 with 1 Axes>"
            ]
          },
          "metadata": {
            "needs_background": "light"
          }
        }
      ]
    },
    {
      "cell_type": "code",
      "source": [
        "sns.barplot(x = '테마', y = 'EPS(원)', data = dat);"
      ],
      "metadata": {
        "id": "T3grAW2pE3pV",
        "outputId": "b7005a7c-bcc4-41b7-d937-96fc5575f6fc",
        "colab": {
          "base_uri": "https://localhost:8080/",
          "height": 352
        }
      },
      "execution_count": null,
      "outputs": [
        {
          "output_type": "stream",
          "name": "stderr",
          "text": [
            "/usr/local/lib/python3.7/dist-packages/matplotlib/backends/backend_agg.py:214: RuntimeWarning: Glyph 8722 missing from current font.\n",
            "  font.set_text(s, 0.0, flags=flags)\n",
            "/usr/local/lib/python3.7/dist-packages/matplotlib/backends/backend_agg.py:183: RuntimeWarning: Glyph 8722 missing from current font.\n",
            "  font.set_text(s, 0, flags=flags)\n"
          ]
        },
        {
          "output_type": "display_data",
          "data": {
            "image/png": "[encoded data removed]",
            "text/plain": [
              "<Figure size 432x288 with 1 Axes>"
            ]
          },
          "metadata": {
            "needs_background": "light"
          }
        }
      ]
    },
    {
      "cell_type": "code",
      "source": [
        ""
      ],
      "metadata": {
        "id": "i65bJ5UIE62R"
      },
      "execution_count": null,
      "outputs": []
    }
  ]
}